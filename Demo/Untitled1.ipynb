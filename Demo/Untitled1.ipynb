{
  "nbformat": 4,
  "nbformat_minor": 0,
  "metadata": {
    "colab": {
      "name": "Untitled1.ipynb",
      "provenance": [],
      "authorship_tag": "ABX9TyM+dMtN1ZQDeQTbf1VlhfM7",
      "include_colab_link": true
    },
    "kernelspec": {
      "name": "python3",
      "display_name": "Python 3"
    },
    "language_info": {
      "name": "python"
    }
  },
  "cells": [
    {
      "cell_type": "markdown",
      "metadata": {
        "id": "view-in-github",
        "colab_type": "text"
      },
      "source": [
        "<a href=\"https://colab.research.google.com/github/harsh9802/Movie_Recommendation_System/blob/main/Demo/Untitled1.ipynb\" target=\"_parent\"><img src=\"https://colab.research.google.com/assets/colab-badge.svg\" alt=\"Open In Colab\"/></a>"
      ]
    },
    {
      "cell_type": "code",
      "source": [
        "from google.colab import drive\n",
        "drive.mount('/content/drive')"
      ],
      "metadata": {
        "id": "3WRZniVZK3YE",
        "outputId": "b3641350-feba-4378-bfcc-27ae456c8244",
        "colab": {
          "base_uri": "https://localhost:8080/"
        }
      },
      "execution_count": 1,
      "outputs": [
        {
          "output_type": "stream",
          "name": "stdout",
          "text": [
            "Mounted at /content/drive\n"
          ]
        }
      ]
    },
    {
      "cell_type": "code",
      "source": [
        "%cd /content/drive/MyDrive/Movie_Recommender"
      ],
      "metadata": {
        "id": "Wpl_GBGlLLqG",
        "outputId": "5874b0a0-cd90-48c3-a7e0-bb482f37f071",
        "colab": {
          "base_uri": "https://localhost:8080/"
        }
      },
      "execution_count": 2,
      "outputs": [
        {
          "output_type": "stream",
          "name": "stdout",
          "text": [
            "/content/drive/MyDrive/Movie_Recommender\n"
          ]
        }
      ]
    },
    {
      "cell_type": "code",
      "source": [
        "import pandas as pd\n",
        "import numpy as np\n",
        "from sklearn.feature_extraction.text import CountVectorizer\n",
        "from sklearn.metrics.pairwise import cosine_similarity"
      ],
      "metadata": {
        "id": "2N5Pt1njpOLw"
      },
      "execution_count": 3,
      "outputs": []
    },
    {
      "cell_type": "markdown",
      "source": [
        ""
      ],
      "metadata": {
        "id": "xUnx7Bt1pOzh"
      }
    },
    {
      "cell_type": "code",
      "execution_count": 15,
      "metadata": {
        "id": "3eGgOK9do9ie"
      },
      "outputs": [],
      "source": [
        "data = pd.read_csv('final_dataset.csv')"
      ]
    },
    {
      "cell_type": "code",
      "source": [
        "cv = CountVectorizer()\n",
        "count_matrix = cv.fit_transform(data['comb'])"
      ],
      "metadata": {
        "id": "3ALKMJompW4z"
      },
      "execution_count": 16,
      "outputs": []
    },
    {
      "cell_type": "code",
      "source": [
        "similarity = cosine_similarity(count_matrix)"
      ],
      "metadata": {
        "id": "DKTVKmkPpcHQ"
      },
      "execution_count": 17,
      "outputs": []
    },
    {
      "cell_type": "code",
      "source": [
        "def recommend(m):\n",
        "    m=m.lower()\n",
        "    if m not in data['movie_title'].unique():\n",
        "        return('Sorry! The movie you requested is not in our database. Please check the spelling or try with some other movies')\n",
        "    else:\n",
        "        i = data.loc[data['movie_title']==m].index[0]\n",
        "        lst = list(enumerate(similarity[i]))\n",
        "        lst = sorted(lst, key = lambda x:x[1] ,reverse=True)\n",
        "        lst = lst[1:11] # excluding first item since it is the requested movie itself\n",
        "        l = []\n",
        "        for i in range(len(lst)):\n",
        "            a = lst[i][0]\n",
        "            print(data['movie_title'][a])"
      ],
      "metadata": {
        "id": "2yrPWugMpfYG"
      },
      "execution_count": 23,
      "outputs": []
    },
    {
      "cell_type": "code",
      "source": [
        "recommend('Batman')"
      ],
      "metadata": {
        "colab": {
          "base_uri": "https://localhost:8080/"
        },
        "id": "7YWOkYV6ppg8",
        "outputId": "84d24f37-f571-4200-aa0c-21700007cce8"
      },
      "execution_count": 28,
      "outputs": [
        {
          "output_type": "stream",
          "name": "stdout",
          "text": [
            "batman returns\n",
            "raiders of the lost ark\n",
            "batman forever\n",
            "the legend of the lone ranger\n",
            "flash gordon\n",
            "the rock\n",
            "superman iv: the quest for peace\n",
            "falcon rising\n",
            "transformers\n",
            "the omega code\n"
          ]
        }
      ]
    }
  ]
}