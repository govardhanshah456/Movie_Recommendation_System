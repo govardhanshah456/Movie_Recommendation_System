{
  "nbformat": 4,
  "nbformat_minor": 0,
  "metadata": {
    "colab": {
      "name": "Untitled1.ipynb",
      "provenance": [],
      "authorship_tag": "ABX9TyOXsMEe+TQ9EIi0YTwCsrOb",
      "include_colab_link": true
    },
    "kernelspec": {
      "name": "python3",
      "display_name": "Python 3"
    },
    "language_info": {
      "name": "python"
    }
  },
  "cells": [
    {
      "cell_type": "markdown",
      "metadata": {
        "id": "view-in-github",
        "colab_type": "text"
      },
      "source": [
        "<a href=\"https://colab.research.google.com/github/harsh9802/Movie_Recommendation_System/blob/main/Demo/Untitled1.ipynb\" target=\"_parent\"><img src=\"https://colab.research.google.com/assets/colab-badge.svg\" alt=\"Open In Colab\"/></a>"
      ]
    },
    {
      "cell_type": "code",
      "source": [
        "import pandas as pd\n",
        "import numpy as np\n",
        "from sklearn.feature_extraction.text import CountVectorizer\n",
        "from sklearn.metrics.pairwise import cosine_similarity"
      ],
      "metadata": {
        "id": "2N5Pt1njpOLw"
      },
      "execution_count": 2,
      "outputs": []
    },
    {
      "cell_type": "markdown",
      "source": [
        ""
      ],
      "metadata": {
        "id": "xUnx7Bt1pOzh"
      }
    },
    {
      "cell_type": "code",
      "execution_count": 3,
      "metadata": {
        "id": "3eGgOK9do9ie"
      },
      "outputs": [],
      "source": [
        "data = pd.read_csv('final_dataset (1).csv')"
      ]
    },
    {
      "cell_type": "code",
      "source": [
        "cv = CountVectorizer()\n",
        "count_matrix = cv.fit_transform(data['comb'])"
      ],
      "metadata": {
        "id": "3ALKMJompW4z"
      },
      "execution_count": 4,
      "outputs": []
    },
    {
      "cell_type": "code",
      "source": [
        "similarity = cosine_similarity(count_matrix)"
      ],
      "metadata": {
        "id": "DKTVKmkPpcHQ"
      },
      "execution_count": 5,
      "outputs": []
    },
    {
      "cell_type": "code",
      "source": [
        "def recommend(m):\n",
        "    if m not in data['movie_title'].unique():\n",
        "        return('Sorry! The movie you requested is not in our database. Please check the spelling or try with some other movies')\n",
        "    else:\n",
        "        i = data.loc[data['movie_title']==m].index[0]\n",
        "        lst = list(enumerate(similarity[i]))\n",
        "        lst = sorted(lst, key = lambda x:x[1] ,reverse=True)\n",
        "        lst = lst[1:11] # excluding first item since it is the requested movie itself\n",
        "        l = []\n",
        "        for i in range(len(lst)):\n",
        "            a = lst[i][0]\n",
        "            print(data['movie_title'][a])"
      ],
      "metadata": {
        "id": "2yrPWugMpfYG"
      },
      "execution_count": 6,
      "outputs": []
    },
    {
      "cell_type": "code",
      "source": [
        "recommend('avatar')"
      ],
      "metadata": {
        "colab": {
          "base_uri": "https://localhost:8080/"
        },
        "id": "7YWOkYV6ppg8",
        "outputId": "474e7728-0178-44fd-a469-6f973b0f7107"
      },
      "execution_count": 7,
      "outputs": [
        {
          "output_type": "stream",
          "name": "stdout",
          "text": [
            "aliens\n",
            "mystery men\n",
            "deep rising\n",
            "dragonball: evolution\n",
            "terminator 2: judgment day\n",
            "the terminator\n",
            "blade: trinity\n",
            "star wars: the clone wars            \n",
            "the amazing spider-man 2\n",
            "2012\n"
          ]
        }
      ]
    }
  ]
}